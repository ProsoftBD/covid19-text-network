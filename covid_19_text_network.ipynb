{
 "cells": [
  {
   "cell_type": "markdown",
   "metadata": {},
   "source": [
    "## Information Mining for COVID-19 Research From a Large Volume of Scientific Literature\n",
    "\n",
    "<center>Sabber Ahamed (sabbers@gmail.com), Manar Samad (msamad@tnstate.edu)</center>\n",
    "<br>\n",
    "\n",
    "In this project, we developed a graph-based model using abstracts of 10,683 scientific articles to find key information on three topics: transmission, drug types, and genome research related to coronavirus. A subgraph is built for each of the three topics to extract topic-focused information. Within each subgraph, we use a betweenness centrality to rank the importance of keywords. The results reveal intriguing information about antiviral drugs (Chloroquine, Amantadine, Dexamethasone), pathogen-hosts (pigs, bats, macaque, cynomolgus), viral pathogens (zika, dengue, malaria, and several viruses in the coronaviridae virus family), and proteins and therapeutic mechanisms (oligonucleotide, interferon, glycoprotein) in connection with the core topic of coronavirus. The categorical summary of these keywords and topics may be a useful reference to expedite and recommend new and alternative directions for COVID-19 research.\n",
    "\n",
    "### Graph\n",
    "The project repository (https://github.com/msahamed/covid19-text-network) contains all the graph files (.gephi and .gexf). \n",
    "You need to install Gephi to visualize the network.\n",
    "\n",
    "<li> covid19_abstract.geph is the graph network of all the available abstracts. <\\li>\n",
    "<li>covid19_abstract.gexf is the graph meta data of all the abstracts.<\\li>\n",
    "<li> covid19_title.geph is the graph network of all the titles of 29K articles.<\\li>\n",
    "<li> covid19_title.gexf is the graph meta data of all the titles of 29K articles.<\\li>\n",
    "\n",
    "### Paper:\n",
    "The manuscript associated with work can be found on here: https://arxiv.org/abs/2004.02085."
   ]
  },
  {
   "cell_type": "markdown",
   "metadata": {},
   "source": [
    "### Import all the necessary library"
   ]
  },
  {
   "cell_type": "code",
   "execution_count": 49,
   "metadata": {},
   "outputs": [],
   "source": [
    "import warnings\n",
    "def warn(*arg, **kwarg):\n",
    "    pass\n",
    "warnings.warn = warn\n",
    "\n",
    "import numpy as np # linear algebra\n",
    "import pandas as pd # data processing, CSV file I/O (e.g. pd.read_csv)\n",
    "import matplotlib.pyplot as plt\n",
    "plt.style.use('ggplot')\n",
    "import glob\n",
    "import json\n",
    "from IPython.display import Image"
   ]
  },
  {
   "cell_type": "code",
   "execution_count": 50,
   "metadata": {},
   "outputs": [
    {
     "data": {
      "text/html": [
       "        <script type=\"text/javascript\">\n",
       "        window.PlotlyConfig = {MathJaxConfig: 'local'};\n",
       "        if (window.MathJax) {MathJax.Hub.Config({SVG: {font: \"STIX-Web\"}});}\n",
       "        if (typeof require !== 'undefined') {\n",
       "        require.undef(\"plotly\");\n",
       "        requirejs.config({\n",
       "            paths: {\n",
       "                'plotly': ['https://cdn.plot.ly/plotly-latest.min']\n",
       "            }\n",
       "        });\n",
       "        require(['plotly'], function(Plotly) {\n",
       "            window._Plotly = Plotly;\n",
       "        });\n",
       "        }\n",
       "        </script>\n",
       "        "
      ]
     },
     "metadata": {},
     "output_type": "display_data"
    }
   ],
   "source": [
    "import py2neo\n",
    "from py2neo import Graph\n",
    "import jgraph as IGraph\n",
    "from IPython.display import Image\n",
    "from IPython.core.display import HTML \n",
    "\n",
    "import numpy as np\n",
    "import pandas as pd\n",
    "\n",
    "# Other\n",
    "import re\n",
    "import string\n",
    "\n",
    "# NLTK\n",
    "import nltk\n",
    "from nltk.corpus import stopwords\n",
    "from nltk.stem import SnowballStemmer\n",
    "\n",
    "## Plot\n",
    "import plotly.offline as py\n",
    "import plotly.graph_objs as go\n",
    "py.init_notebook_mode(connected=True)\n",
    "import matplotlib as plt"
   ]
  },
  {
   "cell_type": "markdown",
   "metadata": {},
   "source": [
    "## <b> Data Processing<b>"
   ]
  },
  {
   "cell_type": "code",
   "execution_count": 51,
   "metadata": {},
   "outputs": [],
   "source": [
    "root_path = './CORD-19-research-challenge'\n",
    "metadata_path = f'{root_path}/all_sources_metadata_2020-03-13.csv'"
   ]
  },
  {
   "cell_type": "code",
   "execution_count": 52,
   "metadata": {},
   "outputs": [
    {
     "data": {
      "text/plain": [
       "'./CORD-19-research-challenge/all_sources_metadata_2020-03-13.csv'"
      ]
     },
     "execution_count": 52,
     "metadata": {},
     "output_type": "execute_result"
    }
   ],
   "source": [
    "metadata_path"
   ]
  },
  {
   "cell_type": "code",
   "execution_count": 53,
   "metadata": {},
   "outputs": [
    {
     "data": {
      "text/html": [
       "<div>\n",
       "<style scoped>\n",
       "    .dataframe tbody tr th:only-of-type {\n",
       "        vertical-align: middle;\n",
       "    }\n",
       "\n",
       "    .dataframe tbody tr th {\n",
       "        vertical-align: top;\n",
       "    }\n",
       "\n",
       "    .dataframe thead th {\n",
       "        text-align: right;\n",
       "    }\n",
       "</style>\n",
       "<table border=\"1\" class=\"dataframe\">\n",
       "  <thead>\n",
       "    <tr style=\"text-align: right;\">\n",
       "      <th></th>\n",
       "      <th>sha</th>\n",
       "      <th>source_x</th>\n",
       "      <th>title</th>\n",
       "      <th>doi</th>\n",
       "      <th>pmcid</th>\n",
       "      <th>pubmed_id</th>\n",
       "      <th>license</th>\n",
       "      <th>abstract</th>\n",
       "      <th>publish_time</th>\n",
       "      <th>authors</th>\n",
       "      <th>journal</th>\n",
       "      <th>Microsoft Academic Paper ID</th>\n",
       "      <th>WHO #Covidence</th>\n",
       "      <th>has_full_text</th>\n",
       "    </tr>\n",
       "  </thead>\n",
       "  <tbody>\n",
       "    <tr>\n",
       "      <th>0</th>\n",
       "      <td>c630ebcdf30652f0422c3ec12a00b50241dc9bd9</td>\n",
       "      <td>CZI</td>\n",
       "      <td>Angiotensin-converting enzyme 2 (ACE2) as a SA...</td>\n",
       "      <td>10.1007/s00134-020-05985-9</td>\n",
       "      <td>NaN</td>\n",
       "      <td>32125455</td>\n",
       "      <td>cc-by-nc</td>\n",
       "      <td>NaN</td>\n",
       "      <td>2020</td>\n",
       "      <td>Zhang, Haibo; Penninger, Josef M.; Li, Yimin; ...</td>\n",
       "      <td>Intensive Care Med</td>\n",
       "      <td>2002765492</td>\n",
       "      <td>#3252</td>\n",
       "      <td>True</td>\n",
       "    </tr>\n",
       "    <tr>\n",
       "      <th>1</th>\n",
       "      <td>53eccda7977a31e3d0f565c884da036b1e85438e</td>\n",
       "      <td>CZI</td>\n",
       "      <td>Comparative genetic analysis of the novel coro...</td>\n",
       "      <td>10.1038/s41421-020-0147-1</td>\n",
       "      <td>NaN</td>\n",
       "      <td>NaN</td>\n",
       "      <td>cc-by</td>\n",
       "      <td>NaN</td>\n",
       "      <td>2020</td>\n",
       "      <td>Cao, Yanan; Li, Lin; Feng, Zhimin; Wan, Shengq...</td>\n",
       "      <td>Cell Discovery</td>\n",
       "      <td>3003430844</td>\n",
       "      <td>#1861</td>\n",
       "      <td>True</td>\n",
       "    </tr>\n",
       "    <tr>\n",
       "      <th>2</th>\n",
       "      <td>210a892deb1c61577f6fba58505fd65356ce6636</td>\n",
       "      <td>CZI</td>\n",
       "      <td>Incubation Period and Other Epidemiological Ch...</td>\n",
       "      <td>10.3390/jcm9020538</td>\n",
       "      <td>NaN</td>\n",
       "      <td>NaN</td>\n",
       "      <td>cc-by</td>\n",
       "      <td>The geographic spread of 2019 novel coronaviru...</td>\n",
       "      <td>2020</td>\n",
       "      <td>Linton, M. Natalie; Kobayashi, Tetsuro; Yang, ...</td>\n",
       "      <td>Journal of Clinical Medicine</td>\n",
       "      <td>3006065484</td>\n",
       "      <td>#1043</td>\n",
       "      <td>True</td>\n",
       "    </tr>\n",
       "  </tbody>\n",
       "</table>\n",
       "</div>"
      ],
      "text/plain": [
       "                                        sha source_x  \\\n",
       "0  c630ebcdf30652f0422c3ec12a00b50241dc9bd9      CZI   \n",
       "1  53eccda7977a31e3d0f565c884da036b1e85438e      CZI   \n",
       "2  210a892deb1c61577f6fba58505fd65356ce6636      CZI   \n",
       "\n",
       "                                               title  \\\n",
       "0  Angiotensin-converting enzyme 2 (ACE2) as a SA...   \n",
       "1  Comparative genetic analysis of the novel coro...   \n",
       "2  Incubation Period and Other Epidemiological Ch...   \n",
       "\n",
       "                          doi pmcid pubmed_id   license  \\\n",
       "0  10.1007/s00134-020-05985-9   NaN  32125455  cc-by-nc   \n",
       "1   10.1038/s41421-020-0147-1   NaN       NaN     cc-by   \n",
       "2          10.3390/jcm9020538   NaN       NaN     cc-by   \n",
       "\n",
       "                                            abstract publish_time  \\\n",
       "0                                                NaN         2020   \n",
       "1                                                NaN         2020   \n",
       "2  The geographic spread of 2019 novel coronaviru...         2020   \n",
       "\n",
       "                                             authors  \\\n",
       "0  Zhang, Haibo; Penninger, Josef M.; Li, Yimin; ...   \n",
       "1  Cao, Yanan; Li, Lin; Feng, Zhimin; Wan, Shengq...   \n",
       "2  Linton, M. Natalie; Kobayashi, Tetsuro; Yang, ...   \n",
       "\n",
       "                        journal Microsoft Academic Paper ID WHO #Covidence  \\\n",
       "0            Intensive Care Med                  2002765492          #3252   \n",
       "1                Cell Discovery                  3003430844          #1861   \n",
       "2  Journal of Clinical Medicine                  3006065484          #1043   \n",
       "\n",
       "  has_full_text  \n",
       "0          True  \n",
       "1          True  \n",
       "2          True  "
      ]
     },
     "execution_count": 53,
     "metadata": {},
     "output_type": "execute_result"
    }
   ],
   "source": [
    "meta_df = pd.read_csv(metadata_path, dtype={\n",
    "    'pubmed_id': str,\n",
    "    'Microsoft Academic Paper ID': str, \n",
    "    'doi': str\n",
    "})\n",
    "meta_df.head(3)"
   ]
  },
  {
   "cell_type": "code",
   "execution_count": 54,
   "metadata": {},
   "outputs": [
    {
     "data": {
      "text/plain": [
       "(29500, 14)"
      ]
     },
     "execution_count": 54,
     "metadata": {},
     "output_type": "execute_result"
    }
   ],
   "source": [
    "meta_df.shape"
   ]
  },
  {
   "cell_type": "code",
   "execution_count": 55,
   "metadata": {},
   "outputs": [
    {
     "data": {
      "text/plain": [
       "13202"
      ]
     },
     "execution_count": 55,
     "metadata": {},
     "output_type": "execute_result"
    }
   ],
   "source": [
    "all_json = glob.glob(f'{root_path}/**/*.json', recursive=True)\n",
    "len(all_json)"
   ]
  },
  {
   "cell_type": "markdown",
   "metadata": {},
   "source": [
    "### Reading raw json files"
   ]
  },
  {
   "cell_type": "code",
   "execution_count": 56,
   "metadata": {},
   "outputs": [
    {
     "name": "stdout",
     "output_type": "stream",
     "text": [
      "8f8eb4f004c2002face0723f2f58cc411954d36e: Complete Genome Sequence of Bordetella bronchiseptica Strain KM22: Bordetella bronchiseptica isolate KM22 has been used in experimental infections of swine as a model of clinical B. bronchiseptica infection and to study host-to-host transmission. The draft genome seq... 20-kb insert library preparation protocol (https://www.pacb.com/wp-content/uploads/ Procedure-Checklist-20-kb-Template-Preparation-Using-BluePippin-Size-Selection -System.pdf). The 20-kb library was s...\n"
     ]
    }
   ],
   "source": [
    "class FileReader:\n",
    "    def __init__(self, file_path):\n",
    "        with open(file_path) as file:\n",
    "            content = json.load(file)\n",
    "            self.paper_id = content['paper_id']\n",
    "            self.abstract = []\n",
    "            self.body_text = []\n",
    "            self.title = content['metadata']['title']\n",
    "            # Abstract\n",
    "            for entry in content['abstract']:\n",
    "                self.abstract.append(entry['text'])\n",
    "            # Body text\n",
    "            for entry in content['body_text']:\n",
    "                self.body_text.append(entry['text'])\n",
    "            self.abstract = '\\n'.join(self.abstract)\n",
    "            self.body_text = '\\n'.join(self.body_text)\n",
    "\n",
    "    def __repr__(self):\n",
    "        return f'{self.paper_id}: {self.title}: {self.abstract[:200]}... {self.body_text[:200]}...'\n",
    "first_row = FileReader(all_json[0])\n",
    "print(first_row)"
   ]
  },
  {
   "cell_type": "code",
   "execution_count": 57,
   "metadata": {},
   "outputs": [
    {
     "name": "stdout",
     "output_type": "stream",
     "text": [
      "Processing index: 0 of 13202\n",
      "Processing index: 1320 of 13202\n",
      "Processing index: 2640 of 13202\n",
      "Processing index: 3960 of 13202\n",
      "Processing index: 5280 of 13202\n",
      "Processing index: 6600 of 13202\n",
      "Processing index: 7920 of 13202\n",
      "Processing index: 9240 of 13202\n",
      "Processing index: 10560 of 13202\n",
      "Processing index: 11880 of 13202\n",
      "Processing index: 13200 of 13202\n"
     ]
    }
   ],
   "source": [
    "dict_ = {'paper_id': [], 'title': [], 'abstract': [], 'body_text': []}\n",
    "for idx, entry in enumerate(all_json):\n",
    "    if idx % (len(all_json) // 10) == 0:\n",
    "        print(f'Processing index: {idx} of {len(all_json)}')\n",
    "    content = FileReader(entry)\n",
    "    dict_['paper_id'].append(content.paper_id)\n",
    "    dict_['title'].append(content.title)\n",
    "    dict_['abstract'].append(content.abstract)\n",
    "    dict_['body_text'].append(content.body_text)\n",
    "df_covid = pd.DataFrame(dict_, columns=['paper_id', 'title', 'abstract', 'body_text'])"
   ]
  },
  {
   "cell_type": "code",
   "execution_count": 58,
   "metadata": {},
   "outputs": [
    {
     "data": {
      "text/plain": [
       "(13202, 4)"
      ]
     },
     "execution_count": 58,
     "metadata": {},
     "output_type": "execute_result"
    }
   ],
   "source": [
    "df_covid.head()\n",
    "df_covid.shape"
   ]
  },
  {
   "cell_type": "markdown",
   "metadata": {},
   "source": [
    "### Remove the duplicates"
   ]
  },
  {
   "cell_type": "code",
   "execution_count": 59,
   "metadata": {},
   "outputs": [],
   "source": [
    "df_covid.drop_duplicates(['title'], inplace=True)\n",
    "df_covid.drop_duplicates(['abstract'], inplace=True)\n",
    "df_covid.drop_duplicates(['body_text'], inplace=True)"
   ]
  },
  {
   "cell_type": "code",
   "execution_count": 60,
   "metadata": {},
   "outputs": [
    {
     "name": "stdout",
     "output_type": "stream",
     "text": [
      "Title: 10683, Abstract: 10683, Body: 10683\n"
     ]
    }
   ],
   "source": [
    "print(f'Title: {df_covid[\"title\"].nunique()}, Abstract: {df_covid[\"abstract\"].nunique()}, Body: {df_covid[\"body_text\"].nunique()}')"
   ]
  },
  {
   "cell_type": "code",
   "execution_count": 61,
   "metadata": {},
   "outputs": [],
   "source": [
    "def lower_case(input_str):\n",
    "    input_str = input_str.lower()\n",
    "    return input_str\n",
    "\n",
    "df_covid['title'] = df_covid['title'].apply(lambda x: lower_case(x))\n",
    "df_covid['body_text'] = df_covid['body_text'].apply(lambda x: lower_case(x))\n",
    "df_covid['abstract'] = df_covid['abstract'].apply(lambda x: lower_case(x))"
   ]
  },
  {
   "cell_type": "markdown",
   "metadata": {},
   "source": [
    "### Update stopwords"
   ]
  },
  {
   "cell_type": "code",
   "execution_count": 62,
   "metadata": {},
   "outputs": [],
   "source": [
    "def regexReplcae(text):\n",
    "    text = re.sub(r\"\\\"\", \" \", text)\n",
    "    text = re.sub(r\"(\\\"?\\')(\\w)\", \" \\2\", text)\n",
    "    text = re.sub(r\"\\?\", \" .\", text)\n",
    "    text = re.sub(r\",\", \"\", text)\n",
    "    text = re.sub(r\"\\.\\s?\", \" SEP.SEP \", text)\n",
    "    text = re.sub(r\"!\", \".\", text)\n",
    "    text = re.sub(r\":\", \"\", text)\n",
    "    text = re.sub(r\"\\s?\\;\\s?\", \"\", text)\n",
    "    text = re.sub(r\"\\/\", \" \", text)\n",
    "    text = re.sub(r\"\\^\", \" ^ \", text)\n",
    "    text = re.sub(r\"\\(\", \"\", text)\n",
    "    text = re.sub(r\"\\)\", \"\", text)\n",
    "    text = re.sub(r\"&\", \" \", text)\n",
    "    text = re.sub(r\"([A-z])\\-([A-z])\", r\"\\1 \\2\", text)\n",
    "    text = re.sub(r\"viruses\", \"virus\", text)\n",
    "    text = re.sub(r\"proteins\", \"protein\", text)\n",
    "    text = re.sub(r\"genes\", \"gene\", text)\n",
    "    text = re.sub(r\"pathogens\", \"pathogen\", text)\n",
    "    text = re.sub(r\"cells\", \"cell\", text)\n",
    "    text = re.sub(r\"drugs\", \"drug\", text)\n",
    "    text = re.sub(r\"vaccines\", \"vaccine\", text)\n",
    "    text = re.sub(r\"vaccination\", \"vaccine\", text)\n",
    "    text = re.sub(r\"genomes\", \"gene\", text)\n",
    "    text = re.sub(r\"genotypes\", \"genotype\", text)\n",
    "    text = re.sub(r\"diseases\", \"disease\", text)\n",
    "    text = re.sub(r\"pathogenesis\", \"pathogen\", text)\n",
    "    text = re.sub(r\"pathogeneis\", \"pathogen\", text)\n",
    "    text = re.sub(r\"pathogenic\", \"pathogen\", text)\n",
    "    text = re.sub(r\"infections\", \"infection\", text)\n",
    "    text = re.sub(r\"infected\", \"infection\", text)\n",
    "    text = re.sub(r\"antibodies\", \"antibody\", text)\n",
    "    text = re.sub(r\"zikv\", \"zikavirus\", text)\n",
    "    text = re.sub(r\"zika\", \"zikavirus\", text)\n",
    "    text = re.sub(r\"bats\", \"bat\", text)\n",
    "    text = re.sub(r\"dogs\", \"dog\", text)\n",
    "    text = re.sub(r\"cats\", \"cat\", text)\n",
    "    text = re.sub(r\"sequences\", \"sequence\", text)\n",
    "    text = re.sub(r\"experiments\", \"experiment\", text)\n",
    "    text = re.sub(r\"sequencing\", \"sequence\", text)\n",
    "    text = re.sub(r\"author\\s?\", \"\", text)\n",
    "    text = re.sub(r\"corresponding\\s?\", \"\", text)\n",
    "    text = re.sub(r\"inhibited\", \"inhibit\", text)\n",
    "    text = re.sub(r\"inhibitor\", \"inhibit\", text)\n",
    "    text = re.sub(r\"adults\", \"adult\", text)   \n",
    "    text = re.sub(r\"interactions\", \"interaction\", text)\n",
    "    text = re.sub(r\"[^\\s@]+@[^\\s@]+\\.[^\\s@]{2,}\", \" \", text)\n",
    "    return text"
   ]
  },
  {
   "cell_type": "code",
   "execution_count": 63,
   "metadata": {},
   "outputs": [],
   "source": [
    "all_text = ' '.join(df_covid['abstract'])\n",
    "all_text = regexReplcae(all_text)"
   ]
  },
  {
   "cell_type": "code",
   "execution_count": 64,
   "metadata": {},
   "outputs": [],
   "source": [
    "allWords = nltk.tokenize.word_tokenize(all_text)\n",
    "allWordDist = nltk.FreqDist(w.lower() for w in allWords)"
   ]
  },
  {
   "cell_type": "code",
   "execution_count": 65,
   "metadata": {},
   "outputs": [],
   "source": [
    "freq_df = pd.DataFrame(allWordDist.items()).rename(columns = {0:'word', 1: 'count'})\n",
    "freq_df.sort_values(by = ['count'], ascending = False, inplace= True)"
   ]
  },
  {
   "cell_type": "code",
   "execution_count": 66,
   "metadata": {},
   "outputs": [
    {
     "data": {
      "text/plain": [
       "word     37844\n",
       "count    37844\n",
       "dtype: int64"
      ]
     },
     "execution_count": 66,
     "metadata": {},
     "output_type": "execute_result"
    }
   ],
   "source": [
    "freq_df[freq_df['count'] <= 1].count()"
   ]
  },
  {
   "cell_type": "code",
   "execution_count": 67,
   "metadata": {},
   "outputs": [
    {
     "data": {
      "text/plain": [
       "(76289, 2)"
      ]
     },
     "execution_count": 67,
     "metadata": {},
     "output_type": "execute_result"
    }
   ],
   "source": [
    "freq_df.shape"
   ]
  },
  {
   "cell_type": "code",
   "execution_count": 68,
   "metadata": {},
   "outputs": [
    {
     "data": {
      "image/png": "[encoded data removed]",
      "text/plain": [
       "<Figure size 432x288 with 1 Axes>"
      ]
     },
     "metadata": {},
     "output_type": "display_data"
    }
   ],
   "source": [
    "import matplotlib.pyplot as plt\n",
    "plt.hist(freq_df[freq_df['count'] >400]['count'], bins = 100, density=False);"
   ]
  },
  {
   "cell_type": "code",
   "execution_count": 72,
   "metadata": {},
   "outputs": [
    {
     "name": "stdout",
     "output_type": "stream",
     "text": [
      "Stop words from histogram: 971\n"
     ]
    }
   ],
   "source": [
    "print(f'Stop words from histogram: {len(list(freq_df[freq_df[\"count\"]  >= 400][\"word\"]))}')"
   ]
  },
  {
   "cell_type": "code",
   "execution_count": 73,
   "metadata": {},
   "outputs": [
    {
     "name": "stdout",
     "output_type": "stream",
     "text": [
      "Total number of stopwords: 2796\n"
     ]
    }
   ],
   "source": [
    "from stopwords_list import stopwords_list\n",
    "updated_stopwords = list(set(stopwords.words(\"english\")).union(set(stopwords_list)))\n",
    "print(f'Total number of stopwords: {len(updated_stopwords)}')"
   ]
  },
  {
   "cell_type": "markdown",
   "metadata": {},
   "source": [
    "### Clean text"
   ]
  },
  {
   "cell_type": "code",
   "execution_count": 201,
   "metadata": {},
   "outputs": [],
   "source": [
    "def clean_text(text):\n",
    "    text = regexReplcae(text)\n",
    "    text = text.lower().split()\n",
    "    text = [w for w in text if w not in updated_stopwords  and len(w) > 2]\n",
    "    aa = nltk.pos_tag(text)\n",
    "    text = [pair[0] for pair in aa if pair[1] == 'NNS' or pair[1] == 'NN' or pair[1] == 'NNP' or pair[1] == 'NNPS' or  pair[1] == 'CC' or pair[1] == 'RB' or pair[1] == 'sep.sep']\n",
    "    text = \" \".join(text)\n",
    "    text = re.sub(r\"\\s?sep\\.sep\\s?\", \". \", text)\n",
    "    \n",
    "    if text is None:\n",
    "        return na\n",
    "    else:\n",
    "        return text"
   ]
  },
  {
   "cell_type": "code",
   "execution_count": 202,
   "metadata": {},
   "outputs": [],
   "source": [
    "df_covid['processed_title'] = df_covid['title'].map(lambda x: clean_text(x))\n",
    "df_covid['processed_abstract'] = df_covid['abstract'].map(lambda x: clean_text(x))"
   ]
  },
  {
   "cell_type": "markdown",
   "metadata": {},
   "source": [
    "### Data modeling for text\n",
    "We develop a directed graph $G(N, E)$ that is represented by a set of nodes $N$ and a set of edges $E$ with directions. Each node $n \\in N$ represents a unique word. A directed edge $e \\in E$ connects two adjacent words based on their positioning in a sentence. An edge point from the preceding word to the succeeding word in a sentence, as shown in the figure below.\n",
    "<br>\n",
    " <img src=\"figures/network_model.jpg\" width=\"350\" height=\"200\" align=\"left\"/>"
   ]
  },
  {
   "cell_type": "markdown",
   "metadata": {},
   "source": [
    "##### Cypher codes for Neo4J"
   ]
  },
  {
   "cell_type": "code",
   "execution_count": 205,
   "metadata": {},
   "outputs": [],
   "source": [
    "CREATE_MODEL = '''\n",
    "CREATE \n",
    "  (`0` :Word ) ,\n",
    "  (`1` :Word ) ,\n",
    "  (`0`)-[:`NEXT_WORD` ]->(`1`)\n",
    "'''\n",
    "\n",
    "DELETE_EXISTING_DATA = '''MATCH (n) DETACH DELETE n'''\n",
    "CREATE_WORD_CONSTRAINT = '''CREATE CONSTRAINT ON (W:Word) ASSERT W.name IS UNIQUE;'''\n",
    "\n",
    "INSERT_DATA = '''\n",
    "WITH split($sentence, \" \") as words\n",
    "unwind range(0,size(words)-2) as idx\n",
    "\n",
    "MERGE (w1:Word {name: words[idx]})\n",
    "  ON CREATE SET w1.count = 1 ON MATCH SET w1.count =  1 + w1.count\n",
    "\n",
    "MERGE (w2:Word {name: words[idx+1]})\n",
    "  ON CREATE SET w2.count = 1 ON MATCH SET w2.count =  1 + (case when idx = size(words)-2 then 1 else 0 end)\n",
    "\n",
    "MERGE (w1)-[NW: NEXT_WORD]->(w2)\n",
    "  ON CREATE SET NW.count = 1 ON MATCH SET NW.count = 1 + NW.count\n",
    "'''"
   ]
  },
  {
   "cell_type": "markdown",
   "metadata": {},
   "source": [
    "#### Export Data to Ne04j"
   ]
  },
  {
   "cell_type": "code",
   "execution_count": 206,
   "metadata": {},
   "outputs": [],
   "source": [
    "graph = Graph(\"bolt://localhost:7687\", auth = (\"neo4j\", 'sabber251188'))"
   ]
  },
  {
   "cell_type": "code",
   "execution_count": 207,
   "metadata": {},
   "outputs": [
    {
     "data": {
      "text/plain": [
       "<py2neo.database.Cursor at 0x196878750>"
      ]
     },
     "execution_count": 207,
     "metadata": {},
     "output_type": "execute_result"
    }
   ],
   "source": [
    "graph.delete_all()\n",
    "graph.run(DELETE_EXISTING_DATA)\n",
    "graph.run(CREATE_MODEL)\n",
    "graph.run(CREATE_WORD_CONSTRAINT)"
   ]
  },
  {
   "cell_type": "code",
   "execution_count": 208,
   "metadata": {},
   "outputs": [],
   "source": [
    "for lines in df_covid['processed_abstract']:\n",
    "    aa = lines.split('.')\n",
    "    for sentence in aa:\n",
    "        if sentence != \"\":\n",
    "            graph.run(INSERT_DATA, parameters = {'sentence': sentence.strip()})"
   ]
  },
  {
   "cell_type": "code",
   "execution_count": 209,
   "metadata": {},
   "outputs": [
    {
     "data": {
      "text/plain": [
       "<py2neo.database.Cursor at 0x186a6fbd0>"
      ]
     },
     "execution_count": 209,
     "metadata": {},
     "output_type": "execute_result"
    }
   ],
   "source": [
    "DELETE_EMPTY_NODE = \"\"\"\n",
    "MATCH (n { name:\"\" })\n",
    "DETACH DELETE n\n",
    "\"\"\"\n",
    "graph.run(DELETE_EMPTY_NODE)"
   ]
  },
  {
   "cell_type": "markdown",
   "metadata": {},
   "source": [
    "#### Export to Gephi"
   ]
  },
  {
   "cell_type": "code",
   "execution_count": null,
   "metadata": {},
   "outputs": [],
   "source": [
    "MATCH path = (:Word)-[:NEXT_WORD]->(:Word)\n",
    "with collect(path) as paths\n",
    "call apoc.gephi.add(null,'workspace1', paths) yield nodes, relationships, time\n",
    "return *"
   ]
  },
  {
   "cell_type": "markdown",
   "metadata": {},
   "source": [
    "### Analysis\n",
    "The proposed graph model is developed using all available article abstracts in the dataset. We assume that an abstract has succinct and sufficient information to represent the overall content of a research article. From the global graph, we find three important keywords $transmission$, $drug$, and $gene$ based on their betweenness centrality values and are relevant to coronavirus. Next, we create three subgraphs using neighboring words of the selected words shown in the Figure below. Within each subgraph, neighboring nodes are expected to reveal a variety of information about the topic word. The neighboring words are further grouped into several categories. Within each category, we rank the neighboring words using subgraph betweenness centrality.  All of the keywords and their different categories are shown in the following subsections. \n",
    "<br>\n",
    "<img src=\"figures/subgraph_model.jpg\" width=\"500\" height=\"400\" align=\"left\"/>"
   ]
  },
  {
   "cell_type": "markdown",
   "metadata": {},
   "source": [
    "#### Transmission subgraph\n",
    "The subgraph reveals several host-pathogen interactions. Animal hosts such as poultry, camel, dogs, pigs, monkeys, chimpanzees may be candidates for studying the transmission mechanism of different zoonotic pathogens related coronavirus. \n",
    "\n",
    "Different diseases are also found in this subgraph: dengue, tuberculosis, adenovirus, malaria, measles, and hand-foot-and-mouth disease (HFMD). These pathogens may have new traits in common with the transmission of coronavirus. Keywords such as multi-drug resistant organism (MDRO), tropism (the growth or movement of organisms), zoonosis (the topic of disease transmission from animals to humans), sanitization, bioaerosols have expectedly appeared in the subgraph of transmission topic. Additionally, the subgraph includes words related to different transmission media such as blood, respiratory, lung, water, aerosol, oronasal, gut, mouth, trachea, glands, droplet, saliva, airborne, and semen.\n",
    "<br>\n",
    "<img src=\"figures/transmission_BC.jpg\" width=\"700\" height=\"500\" align=\"left\"/>"
   ]
  },
  {
   "cell_type": "markdown",
   "metadata": {},
   "source": [
    "#### Drug subgraph\n",
    "A long list of drugs have appeared in the literature, including Chloroquine. Several antiviral drugs such as 'Verdinexor', 'Oseltamivir', 'Amantadine', 'Pranobex' are found in the $drug$ subgraph: \n",
    "\n",
    "Several other relevant categories of drugs that appear in the subgraph are:\n",
    "<li> drugs for cancer treatment (Gemcitabine, Berenil, Daunorubicin, Tanespimycin) </li>\n",
    "<li> anti-fungal drug (Amphotericin), antibiotics (Paromomycin, Carbapenem, Betalactam) </li>\n",
    "<li> immunosuppressive drugs (Mizoribine, Cyclosporin) </li>\n",
    "<li> drugs for malaria (Amodiaquine) </li>\n",
    "<li> Hepatitis C virus treatment (boceprevir) </li>\n",
    "\n",
    "<br>\n",
    "Many chemical and organic compounds, proteins, and enzymes are mentioned in the literature that may have important pharmaceutical properties. Plants (Clerodendrum), plant-based organic compounds (Resveratrol, Glycyrrhizin), and medicine derived from plants (Phytomedicines, Phytochemicals, Phytoconstituents) have appeared in the literature. Bat coronavirus (BTCOV) appears on the list as well. Interestingly, 'Chikungunya', 'Monkeypox', 'Dengue', and 'Tuberculosis' appeared both in the subgraphs of $drug$ and $transmission$. The pathogens of these diseases may have useful links to the study of drug and transmission of coronavirus. \n",
    "<br>\n",
    "<br>\n",
    "<img src=\"figures/drug_BC.jpg\" width=\"700\" height=\"500\" align=\"left\"/>"
   ]
  },
  {
   "cell_type": "markdown",
   "metadata": {},
   "source": [
    "#### Gene subgraph\n",
    "The list includes Hepatitis viruses (HCV, HBV, HEV), influenza viruses (H1N1, H5N1, H7N9, PR8), other viruses related to Dengue (Denv), Chikungunya (CHIKV), HIV, zikavirus, and malaria. Many of these viruses can share similar genomic structure and replication strategy that can be repurposed in the pathogenic study and drug discovery of novel virus strains such as COV-2.\n",
    "Coronaviruses related to pigs, such as porcine epidemic diarrhea virus (PEDV), porcine hemagglutinating encephalomyelitis virus (PHEV), mouse hepatitis virus (MHV), feline infectious peritonitis (FIP) virus, mice originated human coronavirus (HKU1), alpha- and Betacoronaviruses (mainly infect bats) appear in the subgraph as they belong to the same $coronaviridae$ virus family. \n",
    "<br>\n",
    "<br>\n",
    "<img src=\"figures/gene_BC.jpg\" width=\"700\" height=\"500\" align=\"left\"/>"
   ]
  },
  {
   "cell_type": "markdown",
   "metadata": {},
   "source": [
    "### More details"
   ]
  },
  {
   "cell_type": "markdown",
   "metadata": {},
   "source": [
    "For more details, read the manuscript of this work: https://arxiv.org/abs/2004.02085. <br>\n",
    "For graph and associated data: https://github.com/msahamed/covid19-text-network <br>\n",
    "\n",
    "If you have any more questions, please reach out to us:<br>\n",
    "Sabber Ahamed (sabbers@gmail.com), Manar Samad (msamad@tnstate.edu)"
   ]
  },
  {
   "cell_type": "code",
   "execution_count": null,
   "metadata": {},
   "outputs": [],
   "source": []
  }
 ],
 "metadata": {
  "kernelspec": {
   "display_name": "Python 3",
   "language": "python",
   "name": "python3"
  },
  "language_info": {
   "codemirror_mode": {
    "name": "ipython",
    "version": 3
   },
   "file_extension": ".py",
   "mimetype": "text/x-python",
   "name": "python",
   "nbconvert_exporter": "python",
   "pygments_lexer": "ipython3",
   "version": "3.7.6"
  }
 },
 "nbformat": 4,
 "nbformat_minor": 4
}
